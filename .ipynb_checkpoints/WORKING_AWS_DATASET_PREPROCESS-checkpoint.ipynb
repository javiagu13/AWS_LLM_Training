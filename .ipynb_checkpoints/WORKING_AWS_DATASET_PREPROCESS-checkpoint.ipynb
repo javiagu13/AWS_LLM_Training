{
 "cells": [
  {
   "cell_type": "markdown",
   "metadata": {
    "id": "w75hnjziSu4R"
   },
   "source": [
    "# Dataset Preprocessing and Upload to AWS S3"
   ]
  },
  {
   "cell_type": "markdown",
   "metadata": {},
   "source": [
    "**1-Loading your dataset (tsv)**"
   ]
  },
  {
   "cell_type": "markdown",
   "metadata": {},
   "source": [
    "You should prepare your dataset in tsv (it is basically a txt with the name changed, the standard for finetuning models)"
   ]
  },
  {
   "cell_type": "markdown",
   "metadata": {},
   "source": [
    "**Important note**: The data in the file should look like any kind of text and a separation with a pattern to differenciate instruction and response. We will use \"\\<s>[INST]\" as the beginning of the instruction and \"[/INST]\" as the end of the instruction and beginning of response. Finally \"\\</s>\" will be used to address the end of the pattern."
   ]
  },
  {
   "cell_type": "markdown",
   "metadata": {},
   "source": [
    "**Example**: \\<s>[INST] How are you today? [/INST] I am good, thank you! \\</s>"
   ]
  },
  {
   "cell_type": "code",
   "execution_count": 1,
   "metadata": {},
   "outputs": [
    {
     "name": "stderr",
     "output_type": "stream",
     "text": [
      "C:\\Users\\javia\\anaconda3\\lib\\site-packages\\pandas\\core\\computation\\expressions.py:21: UserWarning: Pandas requires version '2.8.4' or newer of 'numexpr' (version '2.8.1' currently installed).\n",
      "  from pandas.core.computation.check import NUMEXPR_INSTALLED\n",
      "C:\\Users\\javia\\anaconda3\\lib\\site-packages\\pandas\\core\\arrays\\masked.py:60: UserWarning: Pandas requires version '1.3.6' or newer of 'bottleneck' (version '1.3.4' currently installed).\n",
      "  from pandas.core import (\n"
     ]
    },
    {
     "name": "stdout",
     "output_type": "stream",
     "text": [
      "Train set loaded:  [\"<s>[INST] F/35 Para 0-0-0-0 HTN/DM(-/-) # Latent tuberculosis Rifampin 4개월 복용중 11. 말 피임약 복용하다가 깜빡 하여 복용 중단. 다음번 생리 주기에 맞추어 다시 복용 하려고 하였음. 2019-12-03 LMP. 경황이 없어 피임약 복용하지 못하였음. 4일 후 생리 마침. 경구 피임약 복용시작 하지 못하여 다시 다음번 주기에 맞춰 복용시작하려고 복용하지 않음 이후 더이상 생리 없음 2019-02-01 임신 테스트기 사용하였고 양성. 2019-02-02 산부인과 진료 아기집 추정되는 sac 확인되며 주위에 피가고여 있다고 들었으며 일주일 뒤 f/u하기로 함/ 2019-02-09 Low abdominal pain 발생하였고 지속. 심하지 않아 경과관찰. 이 시기부터 갈색 vaginal bleeding발생. 하루 pad 2개 정도 사용 abdominal pain, vaginal bleeding 지속 2019-02-12 LLQ area abdominal pain 악화됨. 산부인과 진료. sac 은 안보이나 자궁 벽은 임신시 변화 소견이라고 들었음. 혈액검사 beta HCG 3000 abdominal pain지속시 응급실 내원하라고 들었고 abdominal pain 지속되어 응급실 내원함. 복부수술(-) [/INST] {'SOCIAL_DETERMINANTS': [{'type': 'F/35', 'start_offset': 0, 'end_offset': 4}, {'type': 'Para 0-0-0-0', 'start_offset': 5, 'end_offset': 17}, {'type': '2019-12-03 LMP', 'start_offset': 128, 'end_offset': 142}, {'type': '임신', 'start_offset': 251, 'end_offset': 253}], 'DIAGNOSIS': [{'type': 'HTN/DM(-/-)', 'start_offset': 18, 'end_offset': 29}, {'type': 'Latent tuberculosis', 'start_offset': 32, 'end_offset': 51}], 'MEDICATION': [{'type': 'Rifampin', 'start_offset': 52, 'end_offset': 60}, {'type': '피임약', 'start_offset': 75, 'end_offset': 78}, {'type': '피임약', 'start_offset': 75, 'end_offset': 78}, {'type': '피임약', 'start_offset': 75, 'end_offset': 78}], 'SYMPTOM_SIGN': [{'type': '피가고여 있다', 'start_offset': 310, 'end_offset': 317}, {'type': 'Low abdominal pain', 'start_offset': 351, 'end_offset': 369}, {'type': 'vaginal bleeding', 'start_offset': 403, 'end_offset': 419}, {'type': 'LLQ area abdominal pain', 'start_offset': 486, 'end_offset': 509}, {'type': 'abdominal pain', 'start_offset': 355, 'end_offset': 369}], 'TEST_RESULT': [{'type': 'sac 은 안보이나 자궁 벽은 임신시 변화 소견', 'start_offset': 524, 'end_offset': 550}, {'type': 'beta HCG 3000', 'start_offset': 564, 'end_offset': 577}], 'PROCEDURE': [{'type': '복부수술(-)', 'start_offset': 639, 'end_offset': 646}]} </s>\"]\n",
      "Length: 1576\n",
      "Validation set loaded:  [\"<s>[INST] M/56 HTN/DM (+/-) 2012년 04월 palpitation 으로 IM2 opd 내원함. 2014년 04월 24hr Holter 시행하여 paroxysmal A.fib 진단됨. 환자 medical f/u 원하여 약 복용하며 경과관찰함. 이후 지속적으로 외래 f/u 하였으나 약물 유지중에도 반복적인 A.fib 및 주 1회 가량의 palpitation 지속되어 2018-09-02 RFCA 시행 위해 입원함. 2018-09-03 echo, TEE 후 RFCA 시행함. 2018-09-04 bleeding 및 합병증 없음. 2018-09-05 discharge 이후 특이소견 없이 지냈다고 함. 일주일에 4회 이상 꾸준히 헬스하며 운동도 했다함. 2018-10-04 내원 2일 전 저녁부터 palpitation 지속되어 내원함. chest pain(-) 그 외 동반되는 증상 없음.  [/INST] {'SOCIAL_DETERMINANTS': [{'type': 'M/56', 'start_offset': 0, 'end_offset': 4}], 'DIAGNOSIS': [{'type': 'HTN/DM (+/-)', 'start_offset': 5, 'end_offset': 17}, {'type': 'paroxysmal A.fib', 'start_offset': 83, 'end_offset': 99}, {'type': 'A.fib', 'start_offset': 94, 'end_offset': 99}], 'SYMPTOM_SIGN': [{'type': 'palpitation', 'start_offset': 28, 'end_offset': 39}, {'type': 'palpitation', 'start_offset': 28, 'end_offset': 39}, {'type': 'bleeding', 'start_offset': 278, 'end_offset': 286}, {'type': 'palpitation', 'start_offset': 28, 'end_offset': 39}, {'type': 'chest pain(-)', 'start_offset': 412, 'end_offset': 425}], 'PROCEDURE': [{'type': '24hr Holter', 'start_offset': 66, 'end_offset': 77}, {'type': 'RFCA', 'start_offset': 218, 'end_offset': 222}, {'type': 'echo', 'start_offset': 245, 'end_offset': 249}, {'type': 'TEE', 'start_offset': 251, 'end_offset': 254}, {'type': 'RFCA', 'start_offset': 218, 'end_offset': 222}]} </s>\"]\n",
      "Length: 297\n",
      "Test set loaded:  [\"<s>[INST] M/65 DM/HTN(-/-) 2005-12-06 left ON발생하였으나 1주만에 저절로 완전 회복됨 2006-12-07 routine B-MRI check 상 이상소견이 있어서 refer 됨 본원 f/u 받고 있는 분으로 2WA 우측 눈이 안개 낀 것 처럼 시야장애가 있었다고 함. 시간이 지나갈수록 점점 심해지는 양상 보여 2018-03-20 출장 갔다가 금일 귀국하여 분당 서울 안과에서 12시방향 tear, RD 소견 보여 본원 응급실 내원함.  [/INST] {'SOCIAL_DETERMINANTS': [{'type': 'M/65', 'start_offset': 0, 'end_offset': 4}], 'DIAGNOSIS': [{'type': 'DM/HTN(-/-)', 'start_offset': 5, 'end_offset': 16}, {'type': 'left ON', 'start_offset': 28, 'end_offset': 35}, {'type': 'tear', 'start_offset': 227, 'end_offset': 231}, {'type': 'RD', 'start_offset': 233, 'end_offset': 235}], 'TEST_RESULT': [{'type': 'B-MRI check 상 이상소견', 'start_offset': 77, 'end_offset': 95}], 'SYMPTOM_SIGN': [{'type': '우측 눈이 안개 낀 것 처럼 시야장애', 'start_offset': 130, 'end_offset': 150}]} </s>\"]\n",
      "Length: 98\n"
     ]
    }
   ],
   "source": [
    "import pandas as pd\n",
    "\n",
    "# Function to load a TSV file into an array\n",
    "def load_tsv_to_array(file_path):\n",
    "    df = pd.read_csv(file_path, sep='\\t', header=None)\n",
    "    return df[0].values\n",
    "\n",
    "# Load each TSV file into the respective array\n",
    "train_set = load_tsv_to_array('./train_set.tsv')\n",
    "validation_set = load_tsv_to_array('./validation_set.tsv')\n",
    "test_set_evaluation = load_tsv_to_array('./test_set.tsv')\n",
    "\n",
    "# Verify the contents\n",
    "print(\"Train set loaded: \", train_set[:1])  # Print first 5 elements for verification\n",
    "print(\"Length: \"+str(len(train_set)))\n",
    "print(\"Validation set loaded: \", validation_set[:1])  # Print first 5 elements for verification\n",
    "print(\"Length: \"+str(len(validation_set)))\n",
    "print(\"Test set loaded: \", test_set_evaluation[:1])  # Print first 5 elements for verification\n",
    "print(\"Length: \"+str(len(test_set_evaluation)))"
   ]
  },
  {
   "cell_type": "markdown",
   "metadata": {},
   "source": [
    "**2-Code for applying the desired scheme**"
   ]
  },
  {
   "cell_type": "markdown",
   "metadata": {},
   "source": [
    "Each LLM has a different scheme, your dataset should be adapted for it. This code grabs the current dataset and applies the corresponding scheme. (You do not need to modify this part)"
   ]
  },
  {
   "cell_type": "code",
   "execution_count": 3,
   "metadata": {},
   "outputs": [],
   "source": [
    "import pandas as pd\n",
    "import re\n",
    "\n",
    "# Function to reformat a single sample using the selected schema\n",
    "def reformat_sample(sample, formatter):\n",
    "    \"\"\"\n",
    "    Reformat a single sample using the specified formatter.\n",
    "    \n",
    "    Args:\n",
    "        sample (str): The sample to be reformatted.\n",
    "        formatter (function): A function that formats the user and model text.\n",
    "        \n",
    "    Returns:\n",
    "        str: Reformatted sample.\n",
    "    \"\"\"\n",
    "    # Regular expression to extract USER_TEXT and MODEL_TEXT\n",
    "    pattern = r'<s>\\[INST\\]\\s*(.*?)\\s*\\[/INST\\]\\s*(.*?)\\s*</s>'\n",
    "    match = re.match(pattern, sample, re.DOTALL)\n",
    "    \n",
    "    if match:\n",
    "        user_text = match.group(1).strip()\n",
    "        model_text = match.group(2).strip()\n",
    "        return formatter(user_text, model_text)\n",
    "    else:\n",
    "        print(f\"Warning: Sample format unexpected:\\n{sample}\\n\")\n",
    "        return sample\n",
    "    \n",
    "# Function to apply the selected schema to a dataset\n",
    "def reformat_dataset(dataset, schema_name):\n",
    "    \"\"\"\n",
    "    Reformat a dataset using the specified schema.\n",
    "    \n",
    "    Args:\n",
    "        dataset (list): List of samples to be reformatted.\n",
    "        schema_name (str): Name of the schema to use for formatting.\n",
    "        \n",
    "    Returns:\n",
    "        list: List of reformatted samples.\n",
    "    \"\"\"\n",
    "    if schema_name not in SCHEMA_MAP:\n",
    "        raise ValueError(f\"Unknown schema: {schema_name}. Available schemas: {list(SCHEMA_MAP.keys())}\")\n",
    "    \n",
    "    formatter = SCHEMA_MAP[schema_name]\n",
    "    return [reformat_sample(sample, formatter) for sample in dataset]\n",
    "\n",
    "# Function to save an array to a TSV file\n",
    "def save_array_to_tsv(array, file_path):\n",
    "    df = pd.DataFrame(array)\n",
    "    df.to_csv(file_path, sep='\\t', index=False, header=False)\n"
   ]
  },
  {
   "cell_type": "markdown",
   "metadata": {},
   "source": [
    "**3-Schema Definition**"
   ]
  },
  {
   "cell_type": "markdown",
   "metadata": {},
   "source": [
    "Here you can add your own schemas"
   ]
  },
  {
   "cell_type": "code",
   "execution_count": null,
   "metadata": {},
   "outputs": [],
   "source": [
    "# Formatting schemas\n",
    "def gemma_2_format(user_text, model_text):\n",
    "    \"\"\"\n",
    "    Gemma 2 formatting scheme.\n",
    "    \"\"\"\n",
    "    return (\n",
    "        f\"<start_of_turn>user\\n\"\n",
    "        f\"{user_text}<end_of_turn>\\n\"\n",
    "        f\"<start_of_turn>model\\n\"\n",
    "        f\"{model_text}<end_of_turn>\"\n",
    "    )\n",
    "\n",
    "def llama_3_1_format(user_text, model_text):\n",
    "    \"\"\"\n",
    "    Llama 3.1 formatting scheme.\n",
    "    \"\"\"\n",
    "    return (\n",
    "        f\"<|begin_of_text|><|start_header_id|>user<|end_header_id|>\\n\\n\"\n",
    "        f\"{user_text}<|eot_id|>\\n\"\n",
    "        f\"<|start_header_id|>assistant<|end_header_id|>\\n\\n\"\n",
    "        f\"{model_text}<|eot_id|>\"\n",
    "    )\n",
    "\n",
    "# Map schemas to formatting functions\n",
    "SCHEMA_MAP = {\n",
    "    \"gemma_2\": gemma_2_format,\n",
    "    \"llama_3_1\": llama_3_1_format,\n",
    "    # Add more schemas here\n",
    "}"
   ]
  },
  {
   "cell_type": "markdown",
   "metadata": {},
   "source": [
    "**4-Format and verify the content**"
   ]
  },
  {
   "cell_type": "code",
   "execution_count": 5,
   "metadata": {},
   "outputs": [
    {
     "name": "stdout",
     "output_type": "stream",
     "text": [
      "Train set formatted sample:  [\"<start_of_turn>user\\nF/35 Para 0-0-0-0 HTN/DM(-/-) # Latent tuberculosis Rifampin 4개월 복용중 11. 말 피임약 복용하다가 깜빡 하여 복용 중단. 다음번 생리 주기에 맞추어 다시 복용 하려고 하였음. 2019-12-03 LMP. 경황이 없어 피임약 복용하지 못하였음. 4일 후 생리 마침. 경구 피임약 복용시작 하지 못하여 다시 다음번 주기에 맞춰 복용시작하려고 복용하지 않음 이후 더이상 생리 없음 2019-02-01 임신 테스트기 사용하였고 양성. 2019-02-02 산부인과 진료 아기집 추정되는 sac 확인되며 주위에 피가고여 있다고 들었으며 일주일 뒤 f/u하기로 함/ 2019-02-09 Low abdominal pain 발생하였고 지속. 심하지 않아 경과관찰. 이 시기부터 갈색 vaginal bleeding발생. 하루 pad 2개 정도 사용 abdominal pain, vaginal bleeding 지속 2019-02-12 LLQ area abdominal pain 악화됨. 산부인과 진료. sac 은 안보이나 자궁 벽은 임신시 변화 소견이라고 들었음. 혈액검사 beta HCG 3000 abdominal pain지속시 응급실 내원하라고 들었고 abdominal pain 지속되어 응급실 내원함. 복부수술(-)<end_of_turn>\\n<start_of_turn>model\\n{'SOCIAL_DETERMINANTS': [{'type': 'F/35', 'start_offset': 0, 'end_offset': 4}, {'type': 'Para 0-0-0-0', 'start_offset': 5, 'end_offset': 17}, {'type': '2019-12-03 LMP', 'start_offset': 128, 'end_offset': 142}, {'type': '임신', 'start_offset': 251, 'end_offset': 253}], 'DIAGNOSIS': [{'type': 'HTN/DM(-/-)', 'start_offset': 18, 'end_offset': 29}, {'type': 'Latent tuberculosis', 'start_offset': 32, 'end_offset': 51}], 'MEDICATION': [{'type': 'Rifampin', 'start_offset': 52, 'end_offset': 60}, {'type': '피임약', 'start_offset': 75, 'end_offset': 78}, {'type': '피임약', 'start_offset': 75, 'end_offset': 78}, {'type': '피임약', 'start_offset': 75, 'end_offset': 78}], 'SYMPTOM_SIGN': [{'type': '피가고여 있다', 'start_offset': 310, 'end_offset': 317}, {'type': 'Low abdominal pain', 'start_offset': 351, 'end_offset': 369}, {'type': 'vaginal bleeding', 'start_offset': 403, 'end_offset': 419}, {'type': 'LLQ area abdominal pain', 'start_offset': 486, 'end_offset': 509}, {'type': 'abdominal pain', 'start_offset': 355, 'end_offset': 369}], 'TEST_RESULT': [{'type': 'sac 은 안보이나 자궁 벽은 임신시 변화 소견', 'start_offset': 524, 'end_offset': 550}, {'type': 'beta HCG 3000', 'start_offset': 564, 'end_offset': 577}], 'PROCEDURE': [{'type': '복부수술(-)', 'start_offset': 639, 'end_offset': 646}]}<end_of_turn>\"]\n",
      "Length: 1576\n",
      "Validation set formatted sample:  [\"<start_of_turn>user\\nM/56 HTN/DM (+/-) 2012년 04월 palpitation 으로 IM2 opd 내원함. 2014년 04월 24hr Holter 시행하여 paroxysmal A.fib 진단됨. 환자 medical f/u 원하여 약 복용하며 경과관찰함. 이후 지속적으로 외래 f/u 하였으나 약물 유지중에도 반복적인 A.fib 및 주 1회 가량의 palpitation 지속되어 2018-09-02 RFCA 시행 위해 입원함. 2018-09-03 echo, TEE 후 RFCA 시행함. 2018-09-04 bleeding 및 합병증 없음. 2018-09-05 discharge 이후 특이소견 없이 지냈다고 함. 일주일에 4회 이상 꾸준히 헬스하며 운동도 했다함. 2018-10-04 내원 2일 전 저녁부터 palpitation 지속되어 내원함. chest pain(-) 그 외 동반되는 증상 없음.<end_of_turn>\\n<start_of_turn>model\\n{'SOCIAL_DETERMINANTS': [{'type': 'M/56', 'start_offset': 0, 'end_offset': 4}], 'DIAGNOSIS': [{'type': 'HTN/DM (+/-)', 'start_offset': 5, 'end_offset': 17}, {'type': 'paroxysmal A.fib', 'start_offset': 83, 'end_offset': 99}, {'type': 'A.fib', 'start_offset': 94, 'end_offset': 99}], 'SYMPTOM_SIGN': [{'type': 'palpitation', 'start_offset': 28, 'end_offset': 39}, {'type': 'palpitation', 'start_offset': 28, 'end_offset': 39}, {'type': 'bleeding', 'start_offset': 278, 'end_offset': 286}, {'type': 'palpitation', 'start_offset': 28, 'end_offset': 39}, {'type': 'chest pain(-)', 'start_offset': 412, 'end_offset': 425}], 'PROCEDURE': [{'type': '24hr Holter', 'start_offset': 66, 'end_offset': 77}, {'type': 'RFCA', 'start_offset': 218, 'end_offset': 222}, {'type': 'echo', 'start_offset': 245, 'end_offset': 249}, {'type': 'TEE', 'start_offset': 251, 'end_offset': 254}, {'type': 'RFCA', 'start_offset': 218, 'end_offset': 222}]}<end_of_turn>\"]\n",
      "Length: 297\n",
      "Test set formatted sample:  [\"<start_of_turn>user\\nM/65 DM/HTN(-/-) 2005-12-06 left ON발생하였으나 1주만에 저절로 완전 회복됨 2006-12-07 routine B-MRI check 상 이상소견이 있어서 refer 됨 본원 f/u 받고 있는 분으로 2WA 우측 눈이 안개 낀 것 처럼 시야장애가 있었다고 함. 시간이 지나갈수록 점점 심해지는 양상 보여 2018-03-20 출장 갔다가 금일 귀국하여 분당 서울 안과에서 12시방향 tear, RD 소견 보여 본원 응급실 내원함.<end_of_turn>\\n<start_of_turn>model\\n{'SOCIAL_DETERMINANTS': [{'type': 'M/65', 'start_offset': 0, 'end_offset': 4}], 'DIAGNOSIS': [{'type': 'DM/HTN(-/-)', 'start_offset': 5, 'end_offset': 16}, {'type': 'left ON', 'start_offset': 28, 'end_offset': 35}, {'type': 'tear', 'start_offset': 227, 'end_offset': 231}, {'type': 'RD', 'start_offset': 233, 'end_offset': 235}], 'TEST_RESULT': [{'type': 'B-MRI check 상 이상소견', 'start_offset': 77, 'end_offset': 95}], 'SYMPTOM_SIGN': [{'type': '우측 눈이 안개 낀 것 처럼 시야장애', 'start_offset': 130, 'end_offset': 150}]}<end_of_turn>\"]\n",
      "Length: 98\n"
     ]
    }
   ],
   "source": [
    "\n",
    "# Example Usage (you currently have them loaded from step 1, but should look similar to this)\n",
    "# train_set = [\"<s>[INST] User text 1 [/INST] Model text 1 </s>\", \"<s>[INST] User text 2 [/INST] Model text 2 </s>\"]\n",
    "# validation_set = [\"<s>[INST] Validation user [/INST] Validation model </s>\"]\n",
    "# test_set_evaluation = [\"<s>[INST] Test user [/INST] Test model </s>\"]\n",
    "\n",
    "# Reformat the datasets using a chosen schema\n",
    "chosen_schema = \"gemma_2\"  # Change to \"llama_3_1\" or another schema as needed - make sure it is a name defined in SCHEMA_MAP\n",
    "train_set_formatted = reformat_dataset(train_set, chosen_schema)\n",
    "validation_set_formatted = reformat_dataset(validation_set, chosen_schema)\n",
    "test_set_evaluation_formatted = reformat_dataset(test_set_evaluation, chosen_schema)\n",
    "\n",
    "# Verify the reformatted contents\n",
    "print(\"Train set formatted sample: \", train_set_formatted[:1])\n",
    "print(\"Length: \" + str(len(train_set_formatted)))\n",
    "print(\"Validation set formatted sample: \", validation_set_formatted[:1])\n",
    "print(\"Length: \" + str(len(validation_set_formatted)))\n",
    "print(\"Test set formatted sample: \", test_set_evaluation_formatted[:1])\n",
    "print(\"Length: \" + str(len(test_set_evaluation_formatted)))\n",
    "\n",
    "# (Optional) Save the reformatted datasets\n",
    "save_array_to_tsv(train_set_formatted, f'./{chosen_schema}_train_set.tsv')\n",
    "save_array_to_tsv(validation_set_formatted, f'./{chosen_schema}_validation_set.tsv')\n",
    "save_array_to_tsv(test_set_evaluation_formatted, f'./{chosen_schema}_test_set.tsv')\n"
   ]
  },
  {
   "cell_type": "markdown",
   "metadata": {},
   "source": [
    "**5-Upload content to S3**"
   ]
  },
  {
   "cell_type": "code",
   "execution_count": null,
   "metadata": {},
   "outputs": [],
   "source": [
    "import os\n",
    "import sagemaker\n",
    "import boto3\n",
    "\n",
    "# Specify your custom bucket name\n",
    "bucket_name = \"llama-training-s3\"\n",
    "s3_prefix = \"llama-training-s3\"\n",
    "role = \"WRITE_YOUR_AWS_ROLE_ARN\"  # Replace with your actual Role ARN\n",
    "region_name = sagemaker.Session().boto_region_name  # Detect the region\n",
    "\n",
    "# Initialize Boto3 and SageMaker sessions\n",
    "session = boto3.Session(region_name=region_name)\n",
    "s3 = session.resource(\"s3\")\n",
    "sagemaker_session = sagemaker.Session(boto_session=session)\n",
    "\n",
    "# Create the bucket if it doesn't exist\n",
    "try:\n",
    "    s3.meta.client.head_bucket(Bucket=bucket_name)\n",
    "    print(f\"Bucket '{bucket_name}' already exists.\")\n",
    "except Exception as e:\n",
    "    s3.create_bucket(\n",
    "        Bucket=bucket_name,\n",
    "        CreateBucketConfiguration={'LocationConstraint': region_name}\n",
    "    )\n",
    "    print(f\"Bucket '{bucket_name}' created.\")\n",
    "\n",
    "train_s3_path = f\"{s3_prefix}/train/{chosen_schema}_train_set.tsv\"\n",
    "validation_s3_path = f\"{s3_prefix}/validation/{chosen_schema}_validation_set.tsv\"\n",
    "test_s3_path = f\"{s3_prefix}/test/{chosen_schema}_test_set.tsv\"\n",
    "\n",
    "# Local paths for storing training and validation data\n",
    "train_dir = \"./train\"\n",
    "validation_dir = \"./validation\"\n",
    "test_dir = \"./test\"\n",
    "os.makedirs(train_dir, exist_ok=True)\n",
    "os.makedirs(validation_dir, exist_ok=True)\n",
    "os.makedirs(test_dir, exist_ok=True)\n",
    "\n",
    "print(f\"Training data will be uploaded to: s3://{bucket_name}/{train_s3_path}\")\n",
    "print(f\"Validation data will be uploaded to: s3://{bucket_name}/{validation_s3_path}\")\n",
    "print(f\"Testing data will be uploaded to: s3://{bucket_name}/{test_s3_path}\")\n",
    "\n",
    "# Initialize the S3 resource\n",
    "s3_resource = boto3.resource(\"s3\")\n",
    "\n",
    "# Define local paths to your TSV files\n",
    "train_tsv_path = f'./{chosen_schema}_train_set.tsv'\n",
    "validation_tsv_path = f'./{chosen_schema}_validation_set.tsv'\n",
    "test_tsv_path = f'./{chosen_schema}_test_set.tsv'\n",
    "\n",
    "# Upload TSV files to S3\n",
    "s3_resource.Bucket(bucket_name).upload_file(train_tsv_path, train_s3_path)\n",
    "s3_resource.Bucket(bucket_name).upload_file(validation_tsv_path, validation_s3_path)\n",
    "s3_resource.Bucket(bucket_name).upload_file(test_tsv_path, test_s3_path)\n",
    "\n",
    "print(\"TSV files uploaded to S3 successfully.\")\n"
   ]
  }
 ],
 "metadata": {
  "accelerator": "GPU",
  "colab": {
   "gpuType": "A100",
   "machine_shape": "hm",
   "provenance": []
  },
  "kernelspec": {
   "display_name": "Python 3 (ipykernel)",
   "language": "python",
   "name": "python3"
  },
  "language_info": {
   "codemirror_mode": {
    "name": "ipython",
    "version": 3
   },
   "file_extension": ".py",
   "mimetype": "text/x-python",
   "name": "python",
   "nbconvert_exporter": "python",
   "pygments_lexer": "ipython3",
   "version": "3.9.12"
  },
  "widgets": {
   "application/vnd.jupyter.widget-state+json": {
    "035163cd4fbf43b0ae738becf470f3f7": {
     "model_module": "@jupyter-widgets/controls",
     "model_module_version": "1.5.0",
     "model_name": "HBoxModel",
     "state": {
      "_dom_classes": [],
      "_model_module": "@jupyter-widgets/controls",
      "_model_module_version": "1.5.0",
      "_model_name": "HBoxModel",
      "_view_count": null,
      "_view_module": "@jupyter-widgets/controls",
      "_view_module_version": "1.5.0",
      "_view_name": "HBoxView",
      "box_style": "",
      "children": [
       "IPY_MODEL_8e42c0a1d56d4db0ba6823b21f2b8b16",
       "IPY_MODEL_4c8f47aa2ff94ead857fd2bd8b5d16a2",
       "IPY_MODEL_b9e51fdf9bc544f9a6f53ffa5e3beae9"
      ],
      "layout": "IPY_MODEL_f71a38aea2e5451896ea8daacbbf9120"
     }
    },
    "07a63b18f1764f38a55306dcfba1a4e1": {
     "model_module": "@jupyter-widgets/base",
     "model_module_version": "1.2.0",
     "model_name": "LayoutModel",
     "state": {
      "_model_module": "@jupyter-widgets/base",
      "_model_module_version": "1.2.0",
      "_model_name": "LayoutModel",
      "_view_count": null,
      "_view_module": "@jupyter-widgets/base",
      "_view_module_version": "1.2.0",
      "_view_name": "LayoutView",
      "align_content": null,
      "align_items": null,
      "align_self": null,
      "border": null,
      "bottom": null,
      "display": null,
      "flex": null,
      "flex_flow": null,
      "grid_area": null,
      "grid_auto_columns": null,
      "grid_auto_flow": null,
      "grid_auto_rows": null,
      "grid_column": null,
      "grid_gap": null,
      "grid_row": null,
      "grid_template_areas": null,
      "grid_template_columns": null,
      "grid_template_rows": null,
      "height": null,
      "justify_content": null,
      "justify_items": null,
      "left": null,
      "margin": null,
      "max_height": null,
      "max_width": null,
      "min_height": null,
      "min_width": null,
      "object_fit": null,
      "object_position": null,
      "order": null,
      "overflow": null,
      "overflow_x": null,
      "overflow_y": null,
      "padding": null,
      "right": null,
      "top": null,
      "visibility": null,
      "width": null
     }
    },
    "4c8f47aa2ff94ead857fd2bd8b5d16a2": {
     "model_module": "@jupyter-widgets/controls",
     "model_module_version": "1.5.0",
     "model_name": "FloatProgressModel",
     "state": {
      "_dom_classes": [],
      "_model_module": "@jupyter-widgets/controls",
      "_model_module_version": "1.5.0",
      "_model_name": "FloatProgressModel",
      "_view_count": null,
      "_view_module": "@jupyter-widgets/controls",
      "_view_module_version": "1.5.0",
      "_view_name": "ProgressView",
      "bar_style": "success",
      "description": "",
      "description_tooltip": null,
      "layout": "IPY_MODEL_9eac11e2d1c0472f8d685e57ef5fea85",
      "max": 4,
      "min": 0,
      "orientation": "horizontal",
      "style": "IPY_MODEL_769efd41f9bd43b48829f817d52cd117",
      "value": 4
     }
    },
    "6118e3106cff43ecab95b298412ba3e6": {
     "model_module": "@jupyter-widgets/controls",
     "model_module_version": "1.5.0",
     "model_name": "DescriptionStyleModel",
     "state": {
      "_model_module": "@jupyter-widgets/controls",
      "_model_module_version": "1.5.0",
      "_model_name": "DescriptionStyleModel",
      "_view_count": null,
      "_view_module": "@jupyter-widgets/base",
      "_view_module_version": "1.2.0",
      "_view_name": "StyleView",
      "description_width": ""
     }
    },
    "6ea2fb8b77694cd4a8ed2b64db3c4110": {
     "model_module": "@jupyter-widgets/controls",
     "model_module_version": "1.5.0",
     "model_name": "DescriptionStyleModel",
     "state": {
      "_model_module": "@jupyter-widgets/controls",
      "_model_module_version": "1.5.0",
      "_model_name": "DescriptionStyleModel",
      "_view_count": null,
      "_view_module": "@jupyter-widgets/base",
      "_view_module_version": "1.2.0",
      "_view_name": "StyleView",
      "description_width": ""
     }
    },
    "769efd41f9bd43b48829f817d52cd117": {
     "model_module": "@jupyter-widgets/controls",
     "model_module_version": "1.5.0",
     "model_name": "ProgressStyleModel",
     "state": {
      "_model_module": "@jupyter-widgets/controls",
      "_model_module_version": "1.5.0",
      "_model_name": "ProgressStyleModel",
      "_view_count": null,
      "_view_module": "@jupyter-widgets/base",
      "_view_module_version": "1.2.0",
      "_view_name": "StyleView",
      "bar_color": null,
      "description_width": ""
     }
    },
    "8e42c0a1d56d4db0ba6823b21f2b8b16": {
     "model_module": "@jupyter-widgets/controls",
     "model_module_version": "1.5.0",
     "model_name": "HTMLModel",
     "state": {
      "_dom_classes": [],
      "_model_module": "@jupyter-widgets/controls",
      "_model_module_version": "1.5.0",
      "_model_name": "HTMLModel",
      "_view_count": null,
      "_view_module": "@jupyter-widgets/controls",
      "_view_module_version": "1.5.0",
      "_view_name": "HTMLView",
      "description": "",
      "description_tooltip": null,
      "layout": "IPY_MODEL_9dee7ecad8cb4fb5b6d02697b016db41",
      "placeholder": "​",
      "style": "IPY_MODEL_6ea2fb8b77694cd4a8ed2b64db3c4110",
      "value": "Loading checkpoint shards: 100%"
     }
    },
    "9dee7ecad8cb4fb5b6d02697b016db41": {
     "model_module": "@jupyter-widgets/base",
     "model_module_version": "1.2.0",
     "model_name": "LayoutModel",
     "state": {
      "_model_module": "@jupyter-widgets/base",
      "_model_module_version": "1.2.0",
      "_model_name": "LayoutModel",
      "_view_count": null,
      "_view_module": "@jupyter-widgets/base",
      "_view_module_version": "1.2.0",
      "_view_name": "LayoutView",
      "align_content": null,
      "align_items": null,
      "align_self": null,
      "border": null,
      "bottom": null,
      "display": null,
      "flex": null,
      "flex_flow": null,
      "grid_area": null,
      "grid_auto_columns": null,
      "grid_auto_flow": null,
      "grid_auto_rows": null,
      "grid_column": null,
      "grid_gap": null,
      "grid_row": null,
      "grid_template_areas": null,
      "grid_template_columns": null,
      "grid_template_rows": null,
      "height": null,
      "justify_content": null,
      "justify_items": null,
      "left": null,
      "margin": null,
      "max_height": null,
      "max_width": null,
      "min_height": null,
      "min_width": null,
      "object_fit": null,
      "object_position": null,
      "order": null,
      "overflow": null,
      "overflow_x": null,
      "overflow_y": null,
      "padding": null,
      "right": null,
      "top": null,
      "visibility": null,
      "width": null
     }
    },
    "9eac11e2d1c0472f8d685e57ef5fea85": {
     "model_module": "@jupyter-widgets/base",
     "model_module_version": "1.2.0",
     "model_name": "LayoutModel",
     "state": {
      "_model_module": "@jupyter-widgets/base",
      "_model_module_version": "1.2.0",
      "_model_name": "LayoutModel",
      "_view_count": null,
      "_view_module": "@jupyter-widgets/base",
      "_view_module_version": "1.2.0",
      "_view_name": "LayoutView",
      "align_content": null,
      "align_items": null,
      "align_self": null,
      "border": null,
      "bottom": null,
      "display": null,
      "flex": null,
      "flex_flow": null,
      "grid_area": null,
      "grid_auto_columns": null,
      "grid_auto_flow": null,
      "grid_auto_rows": null,
      "grid_column": null,
      "grid_gap": null,
      "grid_row": null,
      "grid_template_areas": null,
      "grid_template_columns": null,
      "grid_template_rows": null,
      "height": null,
      "justify_content": null,
      "justify_items": null,
      "left": null,
      "margin": null,
      "max_height": null,
      "max_width": null,
      "min_height": null,
      "min_width": null,
      "object_fit": null,
      "object_position": null,
      "order": null,
      "overflow": null,
      "overflow_x": null,
      "overflow_y": null,
      "padding": null,
      "right": null,
      "top": null,
      "visibility": null,
      "width": null
     }
    },
    "b9e51fdf9bc544f9a6f53ffa5e3beae9": {
     "model_module": "@jupyter-widgets/controls",
     "model_module_version": "1.5.0",
     "model_name": "HTMLModel",
     "state": {
      "_dom_classes": [],
      "_model_module": "@jupyter-widgets/controls",
      "_model_module_version": "1.5.0",
      "_model_name": "HTMLModel",
      "_view_count": null,
      "_view_module": "@jupyter-widgets/controls",
      "_view_module_version": "1.5.0",
      "_view_name": "HTMLView",
      "description": "",
      "description_tooltip": null,
      "layout": "IPY_MODEL_07a63b18f1764f38a55306dcfba1a4e1",
      "placeholder": "​",
      "style": "IPY_MODEL_6118e3106cff43ecab95b298412ba3e6",
      "value": " 4/4 [00:11&lt;00:00,  2.44s/it]"
     }
    },
    "f71a38aea2e5451896ea8daacbbf9120": {
     "model_module": "@jupyter-widgets/base",
     "model_module_version": "1.2.0",
     "model_name": "LayoutModel",
     "state": {
      "_model_module": "@jupyter-widgets/base",
      "_model_module_version": "1.2.0",
      "_model_name": "LayoutModel",
      "_view_count": null,
      "_view_module": "@jupyter-widgets/base",
      "_view_module_version": "1.2.0",
      "_view_name": "LayoutView",
      "align_content": null,
      "align_items": null,
      "align_self": null,
      "border": null,
      "bottom": null,
      "display": null,
      "flex": null,
      "flex_flow": null,
      "grid_area": null,
      "grid_auto_columns": null,
      "grid_auto_flow": null,
      "grid_auto_rows": null,
      "grid_column": null,
      "grid_gap": null,
      "grid_row": null,
      "grid_template_areas": null,
      "grid_template_columns": null,
      "grid_template_rows": null,
      "height": null,
      "justify_content": null,
      "justify_items": null,
      "left": null,
      "margin": null,
      "max_height": null,
      "max_width": null,
      "min_height": null,
      "min_width": null,
      "object_fit": null,
      "object_position": null,
      "order": null,
      "overflow": null,
      "overflow_x": null,
      "overflow_y": null,
      "padding": null,
      "right": null,
      "top": null,
      "visibility": null,
      "width": null
     }
    }
   }
  }
 },
 "nbformat": 4,
 "nbformat_minor": 4
}
